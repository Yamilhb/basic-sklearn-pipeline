{
 "cells": [
  {
   "cell_type": "markdown",
   "id": "6AesHPIw6aCG",
   "metadata": {
    "id": "6AesHPIw6aCG"
   },
   "source": [
    "## Intro\n",
    "\n",
    "In this notebook we introduce some pipeline concepts.\n",
    "\n",
    "We have to create 3 objects:\n",
    "- One for RobustScaler transformation.\n",
    "- Another to re-structure the data.\n",
    "- And the third, to train the model (or predict)"
   ]
  },
  {
   "cell_type": "markdown",
   "id": "54655e19",
   "metadata": {
    "id": "54655e19"
   },
   "source": [
    "## LIBRARIES"
   ]
  },
  {
   "cell_type": "code",
   "execution_count": 1,
   "id": "1b5e3b1c",
   "metadata": {
    "executionInfo": {
     "elapsed": 6,
     "status": "ok",
     "timestamp": 1679285562245,
     "user": {
      "displayName": "Honaine Bórquez",
      "userId": "01892143774462287998"
     },
     "user_tz": 180
    },
    "id": "1b5e3b1c"
   },
   "outputs": [
    {
     "name": "stderr",
     "output_type": "stream",
     "text": [
      "2023-03-26 16:47:34.379908: I tensorflow/core/platform/cpu_feature_guard.cc:193] This TensorFlow binary is optimized with oneAPI Deep Neural Network Library (oneDNN) to use the following CPU instructions in performance-critical operations:  AVX2 FMA\n",
      "To enable them in other operations, rebuild TensorFlow with the appropriate compiler flags.\n",
      "2023-03-26 16:47:35.066902: W tensorflow/compiler/xla/stream_executor/platform/default/dso_loader.cc:64] Could not load dynamic library 'libnvinfer.so.7'; dlerror: libnvinfer.so.7: cannot open shared object file: No such file or directory; LD_LIBRARY_PATH: :/home/y41000/miniconda3/envs/tensorfl/lib/:/home/y41000/miniconda3/envs/tensorfl/lib/\n",
      "2023-03-26 16:47:35.067020: W tensorflow/compiler/xla/stream_executor/platform/default/dso_loader.cc:64] Could not load dynamic library 'libnvinfer_plugin.so.7'; dlerror: libnvinfer_plugin.so.7: cannot open shared object file: No such file or directory; LD_LIBRARY_PATH: :/home/y41000/miniconda3/envs/tensorfl/lib/:/home/y41000/miniconda3/envs/tensorfl/lib/\n",
      "2023-03-26 16:47:35.067027: W tensorflow/compiler/tf2tensorrt/utils/py_utils.cc:38] TF-TRT Warning: Cannot dlopen some TensorRT libraries. If you would like to use Nvidia GPU with TensorRT, please make sure the missing libraries mentioned above are installed properly.\n"
     ]
    }
   ],
   "source": [
    "import pandas as pd\n",
    "import numpy as np\n",
    "\n",
    "from sklearn.base import BaseEstimator, TransformerMixin\n",
    "from sklearn.pipeline import Pipeline\n",
    "from sklearn.preprocessing import RobustScaler\n",
    "from sklearn.metrics import mean_squared_error as rmse\n",
    "from sklearn.metrics import mean_absolute_error as mae\n",
    "\n",
    "import pipe_needs\n",
    "\n",
    "import matplotlib.pyplot as plt\n",
    "from matplotlib.pyplot import figure\n",
    "\n",
    "from datetime import datetime\n",
    "\n",
    "import joblib"
   ]
  },
  {
   "cell_type": "code",
   "execution_count": 2,
   "id": "dff1dd46",
   "metadata": {
    "executionInfo": {
     "elapsed": 7,
     "status": "ok",
     "timestamp": 1679285562246,
     "user": {
      "displayName": "Honaine Bórquez",
      "userId": "01892143774462287998"
     },
     "user_tz": 180
    },
    "id": "dff1dd46"
   },
   "outputs": [],
   "source": [
    "ventana = 120 #10 días\n",
    "n_features = 1\n",
    "epochs = 100\n",
    "corte_fecha = 201212\n",
    "corte_train_test = 202208\n",
    "INPUTPATH = '/home/y41000/repos/basic-sklearn-pipeline/'"
   ]
  },
  {
   "cell_type": "markdown",
   "id": "a4de0b6a",
   "metadata": {
    "id": "a4de0b6a"
   },
   "source": [
    "## DATA GENERAL PRE-PROCESSING"
   ]
  },
  {
   "cell_type": "code",
   "execution_count": 3,
   "id": "2b3a1306",
   "metadata": {
    "colab": {
     "base_uri": "https://localhost:8080/"
    },
    "executionInfo": {
     "elapsed": 7,
     "status": "ok",
     "timestamp": 1679285562246,
     "user": {
      "displayName": "Honaine Bórquez",
      "userId": "01892143774462287998"
     },
     "user_tz": 180
    },
    "id": "2b3a1306",
    "outputId": "ec1d2830-4179-4731-c129-ea878d3ee96b"
   },
   "outputs": [],
   "source": [
    "# Read.\n",
    "data1 = pd.read_csv(INPUTPATH+'data/EURUSD_Candlestick_1_h_ASK_31.12.2011-31.01.2023.csv', usecols = ['Gmt time','Close'])\n",
    "\n",
    "# Basic transformations.\n",
    "data1['fecha'] = pd.to_datetime(data1['Gmt time'],format='%d.%m.%Y %H:%M:%S.%f')\n",
    "data1[f'precio_EURUSD'] = data1['Close']\n",
    "\n",
    "# Select records from 2013 onwards.\n",
    "data1 = data1[(data1['fecha'].dt.year*100+data1['fecha'].dt.month)>corte_fecha]\n",
    "\n",
    "# Temporal order.\n",
    "data1.sort_values('fecha',inplace=True)\n",
    "\n",
    "# NULOS\n",
    "# For the null values we will take the preceed value.\n",
    "data1['precio_EURUSD'] = data1['precio_EURUSD'].fillna(method='ffill')\n",
    "# Except when we do not have a preceed value, then we will take the next value.\n",
    "data1['precio_EURUSD'] = data1['precio_EURUSD'].fillna(method='bfill')\n",
    "\n",
    "# Target and TRAIN/TEST.\n",
    "X_train=data1[(data1['fecha'].dt.year*100+data1['fecha'].dt.month)< corte_train_test][['fecha','precio_EURUSD']]\n",
    "X_test =data1[(data1['fecha'].dt.year*100+data1['fecha'].dt.month)>=corte_train_test][['fecha','precio_EURUSD']]\n",
    "y_train=data1[(data1['fecha'].dt.year*100+data1['fecha'].dt.month)< corte_train_test][['fecha','precio_EURUSD']].rename(columns={'precio_EURUSD':'target'})\n",
    "y_train['target'] = y_train['target'].shift(-1).fillna(method='ffill')\n",
    "y_test =data1[(data1['fecha'].dt.year*100+data1['fecha'].dt.month)>=corte_train_test][['fecha','precio_EURUSD']].rename(columns={'precio_EURUSD':'target'})\n",
    "y_test['target'] = y_test['target'].shift(-1).fillna(method='ffill')\n",
    "\n",
    "y_train = y_train['target'].values\n",
    "y_test= y_test['target'].values\n",
    "\n",
    "y_train = y_train[ventana-1:len(y_train) ]\n",
    "y_test = y_test[ventana-1:len(y_test) ]\n",
    "\n",
    "# NORMALIZE.\n",
    "X_train.set_index('fecha',inplace=True)\n",
    "X_test.set_index('fecha',inplace=True)\n",
    "\n"
   ]
  },
  {
   "cell_type": "code",
   "execution_count": null,
   "id": "VTYM1AnB01Rp",
   "metadata": {
    "executionInfo": {
     "elapsed": 5,
     "status": "ok",
     "timestamp": 1679285562246,
     "user": {
      "displayName": "Honaine Bórquez",
      "userId": "01892143774462287998"
     },
     "user_tz": 180
    },
    "id": "VTYM1AnB01Rp"
   },
   "outputs": [],
   "source": []
  },
  {
   "cell_type": "markdown",
   "id": "5PytJ9eV9H7X",
   "metadata": {
    "id": "5PytJ9eV9H7X"
   },
   "source": [
    "## PIPE-LINE\n",
    "\n"
   ]
  },
  {
   "cell_type": "code",
   "execution_count": 4,
   "id": "k6bp1wY4_ErX",
   "metadata": {
    "executionInfo": {
     "elapsed": 748,
     "status": "ok",
     "timestamp": 1679285562989,
     "user": {
      "displayName": "Honaine Bórquez",
      "userId": "01892143774462287998"
     },
     "user_tz": 180
    },
    "id": "k6bp1wY4_ErX"
   },
   "outputs": [],
   "source": [
    "LSTM_pipe = Pipeline([\n",
    "    # === SCALING ===\n",
    "    ('Normalization the data with Robust Scaler', RobustScaler()),\n",
    "\n",
    "    # === RE-STRUCTURE ===\n",
    "    ('Fit the data to the LSTM input structure', pipe_needs.ReestructuraLSM(ventana)),\n",
    "\n",
    "    # === MODEL ===\n",
    "    ('LSTM Model', pipe_needs.ModeloLSM(ventana,n_features,epochs))\n",
    "])\n",
    "\n"
   ]
  },
  {
   "cell_type": "code",
   "execution_count": null,
   "id": "Nop6ktpuYARa",
   "metadata": {
    "colab": {
     "base_uri": "https://localhost:8080/",
     "height": 1000
    },
    "executionInfo": {
     "elapsed": 1081258,
     "status": "ok",
     "timestamp": 1679286644245,
     "user": {
      "displayName": "Honaine Bórquez",
      "userId": "01892143774462287998"
     },
     "user_tz": 180
    },
    "id": "Nop6ktpuYARa",
    "outputId": "6138d0bb-054b-42bb-821e-02154fcba1f9"
   },
   "outputs": [],
   "source": [
    "LSTM_pipe.fit(X_train,y_train)\n"
   ]
  },
  {
   "cell_type": "code",
   "execution_count": null,
   "id": "0M-BCE0YG0rW",
   "metadata": {
    "colab": {
     "base_uri": "https://localhost:8080/"
    },
    "executionInfo": {
     "elapsed": 14675,
     "status": "ok",
     "timestamp": 1679286658916,
     "user": {
      "displayName": "Honaine Bórquez",
      "userId": "01892143774462287998"
     },
     "user_tz": 180
    },
    "id": "0M-BCE0YG0rW",
    "outputId": "bb96ff22-c132-4202-bea2-c9b7e05b778a"
   },
   "outputs": [],
   "source": [
    "\n",
    "yhat_train = LSTM_pipe.transform(X_train)\n",
    "yhat_test = LSTM_pipe.transform(X_test)"
   ]
  },
  {
   "cell_type": "code",
   "execution_count": 24,
   "id": "ASQ9WmS2j5Kl",
   "metadata": {
    "executionInfo": {
     "elapsed": 29,
     "status": "ok",
     "timestamp": 1679286658916,
     "user": {
      "displayName": "Honaine Bórquez",
      "userId": "01892143774462287998"
     },
     "user_tz": 180
    },
    "id": "ASQ9WmS2j5Kl"
   },
   "outputs": [],
   "source": []
  },
  {
   "cell_type": "markdown",
   "id": "1j1W0Imqj6n1",
   "metadata": {
    "id": "1j1W0Imqj6n1"
   },
   "source": [
    "## TEST"
   ]
  },
  {
   "cell_type": "code",
   "execution_count": 24,
   "id": "T4rCkrARo02F",
   "metadata": {
    "executionInfo": {
     "elapsed": 28,
     "status": "ok",
     "timestamp": 1679286658916,
     "user": {
      "displayName": "Honaine Bórquez",
      "userId": "01892143774462287998"
     },
     "user_tz": 180
    },
    "id": "T4rCkrARo02F"
   },
   "outputs": [],
   "source": []
  },
  {
   "cell_type": "markdown",
   "id": "vRFNECnAo1xr",
   "metadata": {
    "id": "vRFNECnAo1xr"
   },
   "source": [
    "**ERRORS**"
   ]
  },
  {
   "cell_type": "code",
   "execution_count": 25,
   "id": "Jw2KDsHdkRAC",
   "metadata": {
    "executionInfo": {
     "elapsed": 28,
     "status": "ok",
     "timestamp": 1679286658917,
     "user": {
      "displayName": "Honaine Bórquez",
      "userId": "01892143774462287998"
     },
     "user_tz": 180
    },
    "id": "Jw2KDsHdkRAC"
   },
   "outputs": [],
   "source": [
    "rmse_test = rmse(y_test,yhat_test.flatten(), squared=False)\n",
    "mae_test = mae(y_test,yhat_test.flatten())\n",
    "\n"
   ]
  },
  {
   "cell_type": "code",
   "execution_count": 26,
   "id": "TK3AFsJbm-1B",
   "metadata": {
    "colab": {
     "base_uri": "https://localhost:8080/"
    },
    "executionInfo": {
     "elapsed": 28,
     "status": "ok",
     "timestamp": 1679286658917,
     "user": {
      "displayName": "Honaine Bórquez",
      "userId": "01892143774462287998"
     },
     "user_tz": 180
    },
    "id": "TK3AFsJbm-1B",
    "outputId": "cab7eb39-a45e-43a2-bf7d-e56669b340eb"
   },
   "outputs": [
    {
     "name": "stdout",
     "output_type": "stream",
     "text": [
      "RMSE: 0.0015307855285791722\n",
      "RMSE/Promedio: 0.1494%\n",
      "\n",
      "MAE: 0.0010031978486788786\n",
      "MAE/Promedio: 0.0979%\n"
     ]
    }
   ],
   "source": [
    "print(f'RMSE: {rmse_test}\\nRMSE/Promedio: {round(100*rmse_test/y_test.mean(),4)}%\\n\\nMAE: {mae_test}\\nMAE/Promedio: {round(100*mae_test/y_test.mean(),4)}%')\n",
    "\n"
   ]
  },
  {
   "cell_type": "code",
   "execution_count": 26,
   "id": "TVZSLlsBn1nd",
   "metadata": {
    "executionInfo": {
     "elapsed": 27,
     "status": "ok",
     "timestamp": 1679286658917,
     "user": {
      "displayName": "Honaine Bórquez",
      "userId": "01892143774462287998"
     },
     "user_tz": 180
    },
    "id": "TVZSLlsBn1nd"
   },
   "outputs": [],
   "source": []
  },
  {
   "cell_type": "markdown",
   "id": "4bocsgX5o5sN",
   "metadata": {
    "id": "4bocsgX5o5sN"
   },
   "source": [
    "**SIGNS**\n",
    "\n",
    "How many times the model hits when says that the price goes up or goes down?"
   ]
  },
  {
   "cell_type": "code",
   "execution_count": 27,
   "id": "PDQNVjENqes_",
   "metadata": {
    "colab": {
     "base_uri": "https://localhost:8080/",
     "height": 174
    },
    "executionInfo": {
     "elapsed": 27,
     "status": "ok",
     "timestamp": 1679286658918,
     "user": {
      "displayName": "Honaine Bórquez",
      "userId": "01892143774462287998"
     },
     "user_tz": 180
    },
    "id": "PDQNVjENqes_",
    "outputId": "911f10a5-8d00-4463-80b4-8b4f5bbea46e"
   },
   "outputs": [
    {
     "data": {
      "text/html": [
       "\n",
       "  <div id=\"df-929e0f36-3bca-47e4-ae17-7bba259f1efa\">\n",
       "    <div class=\"colab-df-container\">\n",
       "      <div>\n",
       "<style scoped>\n",
       "    .dataframe tbody tr th:only-of-type {\n",
       "        vertical-align: middle;\n",
       "    }\n",
       "\n",
       "    .dataframe tbody tr th {\n",
       "        vertical-align: top;\n",
       "    }\n",
       "\n",
       "    .dataframe thead th {\n",
       "        text-align: right;\n",
       "    }\n",
       "</style>\n",
       "<table border=\"1\" class=\"dataframe\">\n",
       "  <thead>\n",
       "    <tr style=\"text-align: right;\">\n",
       "      <th>col_0</th>\n",
       "      <th>-1.0</th>\n",
       "      <th>1.0</th>\n",
       "    </tr>\n",
       "    <tr>\n",
       "      <th>row_0</th>\n",
       "      <th></th>\n",
       "      <th></th>\n",
       "    </tr>\n",
       "  </thead>\n",
       "  <tbody>\n",
       "    <tr>\n",
       "      <th>-1.0</th>\n",
       "      <td>714</td>\n",
       "      <td>801</td>\n",
       "    </tr>\n",
       "    <tr>\n",
       "      <th>0.0</th>\n",
       "      <td>7</td>\n",
       "      <td>12</td>\n",
       "    </tr>\n",
       "    <tr>\n",
       "      <th>1.0</th>\n",
       "      <td>807</td>\n",
       "      <td>730</td>\n",
       "    </tr>\n",
       "  </tbody>\n",
       "</table>\n",
       "</div>\n",
       "      <button class=\"colab-df-convert\" onclick=\"convertToInteractive('df-929e0f36-3bca-47e4-ae17-7bba259f1efa')\"\n",
       "              title=\"Convert this dataframe to an interactive table.\"\n",
       "              style=\"display:none;\">\n",
       "        \n",
       "  <svg xmlns=\"http://www.w3.org/2000/svg\" height=\"24px\"viewBox=\"0 0 24 24\"\n",
       "       width=\"24px\">\n",
       "    <path d=\"M0 0h24v24H0V0z\" fill=\"none\"/>\n",
       "    <path d=\"M18.56 5.44l.94 2.06.94-2.06 2.06-.94-2.06-.94-.94-2.06-.94 2.06-2.06.94zm-11 1L8.5 8.5l.94-2.06 2.06-.94-2.06-.94L8.5 2.5l-.94 2.06-2.06.94zm10 10l.94 2.06.94-2.06 2.06-.94-2.06-.94-.94-2.06-.94 2.06-2.06.94z\"/><path d=\"M17.41 7.96l-1.37-1.37c-.4-.4-.92-.59-1.43-.59-.52 0-1.04.2-1.43.59L10.3 9.45l-7.72 7.72c-.78.78-.78 2.05 0 2.83L4 21.41c.39.39.9.59 1.41.59.51 0 1.02-.2 1.41-.59l7.78-7.78 2.81-2.81c.8-.78.8-2.07 0-2.86zM5.41 20L4 18.59l7.72-7.72 1.47 1.35L5.41 20z\"/>\n",
       "  </svg>\n",
       "      </button>\n",
       "      \n",
       "  <style>\n",
       "    .colab-df-container {\n",
       "      display:flex;\n",
       "      flex-wrap:wrap;\n",
       "      gap: 12px;\n",
       "    }\n",
       "\n",
       "    .colab-df-convert {\n",
       "      background-color: #E8F0FE;\n",
       "      border: none;\n",
       "      border-radius: 50%;\n",
       "      cursor: pointer;\n",
       "      display: none;\n",
       "      fill: #1967D2;\n",
       "      height: 32px;\n",
       "      padding: 0 0 0 0;\n",
       "      width: 32px;\n",
       "    }\n",
       "\n",
       "    .colab-df-convert:hover {\n",
       "      background-color: #E2EBFA;\n",
       "      box-shadow: 0px 1px 2px rgba(60, 64, 67, 0.3), 0px 1px 3px 1px rgba(60, 64, 67, 0.15);\n",
       "      fill: #174EA6;\n",
       "    }\n",
       "\n",
       "    [theme=dark] .colab-df-convert {\n",
       "      background-color: #3B4455;\n",
       "      fill: #D2E3FC;\n",
       "    }\n",
       "\n",
       "    [theme=dark] .colab-df-convert:hover {\n",
       "      background-color: #434B5C;\n",
       "      box-shadow: 0px 1px 3px 1px rgba(0, 0, 0, 0.15);\n",
       "      filter: drop-shadow(0px 1px 2px rgba(0, 0, 0, 0.3));\n",
       "      fill: #FFFFFF;\n",
       "    }\n",
       "  </style>\n",
       "\n",
       "      <script>\n",
       "        const buttonEl =\n",
       "          document.querySelector('#df-929e0f36-3bca-47e4-ae17-7bba259f1efa button.colab-df-convert');\n",
       "        buttonEl.style.display =\n",
       "          google.colab.kernel.accessAllowed ? 'block' : 'none';\n",
       "\n",
       "        async function convertToInteractive(key) {\n",
       "          const element = document.querySelector('#df-929e0f36-3bca-47e4-ae17-7bba259f1efa');\n",
       "          const dataTable =\n",
       "            await google.colab.kernel.invokeFunction('convertToInteractive',\n",
       "                                                     [key], {});\n",
       "          if (!dataTable) return;\n",
       "\n",
       "          const docLinkHtml = 'Like what you see? Visit the ' +\n",
       "            '<a target=\"_blank\" href=https://colab.research.google.com/notebooks/data_table.ipynb>data table notebook</a>'\n",
       "            + ' to learn more about interactive tables.';\n",
       "          element.innerHTML = '';\n",
       "          dataTable['output_type'] = 'display_data';\n",
       "          await google.colab.output.renderOutput(dataTable, element);\n",
       "          const docLink = document.createElement('div');\n",
       "          docLink.innerHTML = docLinkHtml;\n",
       "          element.appendChild(docLink);\n",
       "        }\n",
       "      </script>\n",
       "    </div>\n",
       "  </div>\n",
       "  "
      ],
      "text/plain": [
       "col_0  -1.0   1.0\n",
       "row_0            \n",
       "-1.0    714   801\n",
       " 0.0      7    12\n",
       " 1.0    807   730"
      ]
     },
     "execution_count": 27,
     "metadata": {},
     "output_type": "execute_result"
    }
   ],
   "source": [
    "\n",
    "signo = np.sign(y_test[1:]-y_test[:-1])\n",
    "signohat = np.sign(yhat_test.flatten()[1:]-yhat_test.flatten()[:-1])\n",
    "pd.crosstab(signo,signohat)"
   ]
  },
  {
   "cell_type": "code",
   "execution_count": 27,
   "id": "6ypf9i9vo6_6",
   "metadata": {
    "executionInfo": {
     "elapsed": 26,
     "status": "ok",
     "timestamp": 1679286658918,
     "user": {
      "displayName": "Honaine Bórquez",
      "userId": "01892143774462287998"
     },
     "user_tz": 180
    },
    "id": "6ypf9i9vo6_6"
   },
   "outputs": [],
   "source": []
  },
  {
   "cell_type": "markdown",
   "id": "QjIRCVUWs5Hy",
   "metadata": {
    "id": "QjIRCVUWs5Hy"
   },
   "source": [
    "The same than before but demanding a minimun variation."
   ]
  },
  {
   "cell_type": "code",
   "execution_count": 28,
   "id": "xjTLytsLtPme",
   "metadata": {
    "colab": {
     "base_uri": "https://localhost:8080/",
     "height": 174
    },
    "executionInfo": {
     "elapsed": 26,
     "status": "ok",
     "timestamp": 1679286658918,
     "user": {
      "displayName": "Honaine Bórquez",
      "userId": "01892143774462287998"
     },
     "user_tz": 180
    },
    "id": "xjTLytsLtPme",
    "outputId": "ff6c1c92-d971-4abe-e5b5-d3ee5434237e"
   },
   "outputs": [
    {
     "data": {
      "text/html": [
       "\n",
       "  <div id=\"df-ff1ddc79-d191-4aa5-9848-0c9f0672f596\">\n",
       "    <div class=\"colab-df-container\">\n",
       "      <div>\n",
       "<style scoped>\n",
       "    .dataframe tbody tr th:only-of-type {\n",
       "        vertical-align: middle;\n",
       "    }\n",
       "\n",
       "    .dataframe tbody tr th {\n",
       "        vertical-align: top;\n",
       "    }\n",
       "\n",
       "    .dataframe thead th {\n",
       "        text-align: right;\n",
       "    }\n",
       "</style>\n",
       "<table border=\"1\" class=\"dataframe\">\n",
       "  <thead>\n",
       "    <tr style=\"text-align: right;\">\n",
       "      <th>col_0</th>\n",
       "      <th>-1.0</th>\n",
       "      <th>0.0</th>\n",
       "      <th>1.0</th>\n",
       "    </tr>\n",
       "    <tr>\n",
       "      <th>row_0</th>\n",
       "      <th></th>\n",
       "      <th></th>\n",
       "      <th></th>\n",
       "    </tr>\n",
       "  </thead>\n",
       "  <tbody>\n",
       "    <tr>\n",
       "      <th>-1.0</th>\n",
       "      <td>150</td>\n",
       "      <td>490</td>\n",
       "      <td>185</td>\n",
       "    </tr>\n",
       "    <tr>\n",
       "      <th>0.0</th>\n",
       "      <td>191</td>\n",
       "      <td>1051</td>\n",
       "      <td>174</td>\n",
       "    </tr>\n",
       "    <tr>\n",
       "      <th>1.0</th>\n",
       "      <td>180</td>\n",
       "      <td>497</td>\n",
       "      <td>153</td>\n",
       "    </tr>\n",
       "  </tbody>\n",
       "</table>\n",
       "</div>\n",
       "      <button class=\"colab-df-convert\" onclick=\"convertToInteractive('df-ff1ddc79-d191-4aa5-9848-0c9f0672f596')\"\n",
       "              title=\"Convert this dataframe to an interactive table.\"\n",
       "              style=\"display:none;\">\n",
       "        \n",
       "  <svg xmlns=\"http://www.w3.org/2000/svg\" height=\"24px\"viewBox=\"0 0 24 24\"\n",
       "       width=\"24px\">\n",
       "    <path d=\"M0 0h24v24H0V0z\" fill=\"none\"/>\n",
       "    <path d=\"M18.56 5.44l.94 2.06.94-2.06 2.06-.94-2.06-.94-.94-2.06-.94 2.06-2.06.94zm-11 1L8.5 8.5l.94-2.06 2.06-.94-2.06-.94L8.5 2.5l-.94 2.06-2.06.94zm10 10l.94 2.06.94-2.06 2.06-.94-2.06-.94-.94-2.06-.94 2.06-2.06.94z\"/><path d=\"M17.41 7.96l-1.37-1.37c-.4-.4-.92-.59-1.43-.59-.52 0-1.04.2-1.43.59L10.3 9.45l-7.72 7.72c-.78.78-.78 2.05 0 2.83L4 21.41c.39.39.9.59 1.41.59.51 0 1.02-.2 1.41-.59l7.78-7.78 2.81-2.81c.8-.78.8-2.07 0-2.86zM5.41 20L4 18.59l7.72-7.72 1.47 1.35L5.41 20z\"/>\n",
       "  </svg>\n",
       "      </button>\n",
       "      \n",
       "  <style>\n",
       "    .colab-df-container {\n",
       "      display:flex;\n",
       "      flex-wrap:wrap;\n",
       "      gap: 12px;\n",
       "    }\n",
       "\n",
       "    .colab-df-convert {\n",
       "      background-color: #E8F0FE;\n",
       "      border: none;\n",
       "      border-radius: 50%;\n",
       "      cursor: pointer;\n",
       "      display: none;\n",
       "      fill: #1967D2;\n",
       "      height: 32px;\n",
       "      padding: 0 0 0 0;\n",
       "      width: 32px;\n",
       "    }\n",
       "\n",
       "    .colab-df-convert:hover {\n",
       "      background-color: #E2EBFA;\n",
       "      box-shadow: 0px 1px 2px rgba(60, 64, 67, 0.3), 0px 1px 3px 1px rgba(60, 64, 67, 0.15);\n",
       "      fill: #174EA6;\n",
       "    }\n",
       "\n",
       "    [theme=dark] .colab-df-convert {\n",
       "      background-color: #3B4455;\n",
       "      fill: #D2E3FC;\n",
       "    }\n",
       "\n",
       "    [theme=dark] .colab-df-convert:hover {\n",
       "      background-color: #434B5C;\n",
       "      box-shadow: 0px 1px 3px 1px rgba(0, 0, 0, 0.15);\n",
       "      filter: drop-shadow(0px 1px 2px rgba(0, 0, 0, 0.3));\n",
       "      fill: #FFFFFF;\n",
       "    }\n",
       "  </style>\n",
       "\n",
       "      <script>\n",
       "        const buttonEl =\n",
       "          document.querySelector('#df-ff1ddc79-d191-4aa5-9848-0c9f0672f596 button.colab-df-convert');\n",
       "        buttonEl.style.display =\n",
       "          google.colab.kernel.accessAllowed ? 'block' : 'none';\n",
       "\n",
       "        async function convertToInteractive(key) {\n",
       "          const element = document.querySelector('#df-ff1ddc79-d191-4aa5-9848-0c9f0672f596');\n",
       "          const dataTable =\n",
       "            await google.colab.kernel.invokeFunction('convertToInteractive',\n",
       "                                                     [key], {});\n",
       "          if (!dataTable) return;\n",
       "\n",
       "          const docLinkHtml = 'Like what you see? Visit the ' +\n",
       "            '<a target=\"_blank\" href=https://colab.research.google.com/notebooks/data_table.ipynb>data table notebook</a>'\n",
       "            + ' to learn more about interactive tables.';\n",
       "          element.innerHTML = '';\n",
       "          dataTable['output_type'] = 'display_data';\n",
       "          await google.colab.output.renderOutput(dataTable, element);\n",
       "          const docLink = document.createElement('div');\n",
       "          docLink.innerHTML = docLinkHtml;\n",
       "          element.appendChild(docLink);\n",
       "        }\n",
       "      </script>\n",
       "    </div>\n",
       "  </div>\n",
       "  "
      ],
      "text/plain": [
       "col_0  -1.0   0.0   1.0\n",
       "row_0                  \n",
       "-1.0    150   490   185\n",
       " 0.0    191  1051   174\n",
       " 1.0    180   497   153"
      ]
     },
     "execution_count": 28,
     "metadata": {},
     "output_type": "execute_result"
    }
   ],
   "source": [
    "\n",
    "signo = np.where(np.abs(y_test[1:]-y_test[:-1])>0.00059,signo,0)\n",
    "signohat = np.where(np.abs(yhat_test.flatten()[1:]-yhat_test.flatten()[:-1])>0.00099,signohat,0)\n",
    "pd.crosstab(signo,signohat)"
   ]
  },
  {
   "cell_type": "code",
   "execution_count": 28,
   "id": "r4UNRxAotXE6",
   "metadata": {
    "executionInfo": {
     "elapsed": 25,
     "status": "ok",
     "timestamp": 1679286658918,
     "user": {
      "displayName": "Honaine Bórquez",
      "userId": "01892143774462287998"
     },
     "user_tz": 180
    },
    "id": "r4UNRxAotXE6"
   },
   "outputs": [],
   "source": []
  },
  {
   "cell_type": "markdown",
   "id": "UELOR7qYv5gb",
   "metadata": {
    "id": "UELOR7qYv5gb"
   },
   "source": [
    "**CHART**"
   ]
  },
  {
   "cell_type": "code",
   "execution_count": 28,
   "id": "7DRrKo-Mw976",
   "metadata": {
    "executionInfo": {
     "elapsed": 26,
     "status": "ok",
     "timestamp": 1679286658919,
     "user": {
      "displayName": "Honaine Bórquez",
      "userId": "01892143774462287998"
     },
     "user_tz": 180
    },
    "id": "7DRrKo-Mw976"
   },
   "outputs": [],
   "source": []
  },
  {
   "cell_type": "code",
   "execution_count": 29,
   "id": "js3G8nWFuvEa",
   "metadata": {
    "colab": {
     "base_uri": "https://localhost:8080/",
     "height": 572
    },
    "executionInfo": {
     "elapsed": 26,
     "status": "ok",
     "timestamp": 1679286658919,
     "user": {
      "displayName": "Honaine Bórquez",
      "userId": "01892143774462287998"
     },
     "user_tz": 180
    },
    "id": "js3G8nWFuvEa",
    "outputId": "4ebdf5fc-d71f-4ea6-8833-a7da8464e4ab"
   },
   "outputs": [
    {
     "data": {
      "image/png": "[encoded data removed]",
      "text/plain": [
       "<Figure size 2160x1080 with 1 Axes>"
      ]
     },
     "metadata": {
      "needs_background": "light"
     },
     "output_type": "display_data"
    }
   ],
   "source": [
    "plt.plot(yhat_test.flatten()[-48:], color='blue', label='Estimación')\n",
    "plt.plot(data1['precio_EURUSD'].values[-48:], color='green', label='Precio real')\n",
    "plt.plot(y_test[-48:], color='black', label='Predicción real')\n",
    "plt.legend()\n",
    "plt.ylabel('EUR/USD')\n",
    "plt.xticks(range(48),data1['precio_EURUSD'].astype(str).values[-48:],rotation=90)\n",
    "#plt.xticks(range(48),[x[1] if x[0]%10==0 else '' for x in enumerate(Yte['fecha'].astype(str).values[-48:])],rotation=90)\n",
    "plt.title('TEST')\n",
    "plt.rc('figure', figsize=(30, 15))\n",
    "\n",
    "plt.show()"
   ]
  },
  {
   "cell_type": "markdown",
   "id": "f9b1ee3e",
   "metadata": {
    "executionInfo": {
     "elapsed": 845,
     "status": "ok",
     "timestamp": 1679286659740,
     "user": {
      "displayName": "Honaine Bórquez",
      "userId": "01892143774462287998"
     },
     "user_tz": 180
    },
    "id": "TBEvB31NyX_i"
   },
   "source": [
    "## SAVE (notebook)\n",
    "\n"
   ]
  },
  {
   "cell_type": "code",
   "execution_count": null,
   "id": "ZsnS1m88zcgr",
   "metadata": {
    "executionInfo": {
     "elapsed": 6,
     "status": "ok",
     "timestamp": 1679286659741,
     "user": {
      "displayName": "Honaine Bórquez",
      "userId": "01892143774462287998"
     },
     "user_tz": 180
    },
    "id": "ZsnS1m88zcgr"
   },
   "outputs": [],
   "source": [
    "%%javascript\n",
    "IPython.notebook.save_notebook()"
   ]
  },
  {
   "cell_type": "code",
   "execution_count": null,
   "id": "7c7e2fa9",
   "metadata": {},
   "outputs": [],
   "source": []
  }
 ],
 "metadata": {
  "accelerator": "GPU",
  "colab": {
   "machine_shape": "hm",
   "provenance": []
  },
  "gpuClass": "standard",
  "kernelspec": {
   "display_name": "Python 3 (ipykernel)",
   "language": "python",
   "name": "python3"
  },
  "language_info": {
   "codemirror_mode": {
    "name": "ipython",
    "version": 3
   },
   "file_extension": ".py",
   "mimetype": "text/x-python",
   "name": "python",
   "nbconvert_exporter": "python",
   "pygments_lexer": "ipython3",
   "version": "3.9.16"
  }
 },
 "nbformat": 4,
 "nbformat_minor": 5
}
