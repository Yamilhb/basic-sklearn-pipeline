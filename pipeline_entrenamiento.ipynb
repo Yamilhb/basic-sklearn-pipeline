{
 "cells": [
  {
   "cell_type": "markdown",
   "id": "6AesHPIw6aCG",
   "metadata": {
    "id": "6AesHPIw6aCG"
   },
   "source": [
    "## Intro\n",
    "\n",
    "In this notebook we introduce some pipeline concepts.\n",
    "\n",
    "We have to create 3 objects:\n",
    "- One for RobustScaler transformation.\n",
    "- Another to re-structure the data.\n",
    "- And the third, to train the model (or predict)"
   ]
  },
  {
   "cell_type": "markdown",
   "id": "54655e19",
   "metadata": {
    "id": "54655e19"
   },
   "source": [
    "## LIBRARIES"
   ]
  },
  {
   "cell_type": "code",
   "execution_count": 1,
   "id": "1b5e3b1c",
   "metadata": {
    "executionInfo": {
     "elapsed": 6,
     "status": "ok",
     "timestamp": 1679285562245,
     "user": {
      "displayName": "Honaine Bórquez",
      "userId": "01892143774462287998"
     },
     "user_tz": 180
    },
    "id": "1b5e3b1c"
   },
   "outputs": [
    {
     "name": "stderr",
     "output_type": "stream",
     "text": [
      "2023-03-26 17:08:13.327920: I tensorflow/core/platform/cpu_feature_guard.cc:193] This TensorFlow binary is optimized with oneAPI Deep Neural Network Library (oneDNN) to use the following CPU instructions in performance-critical operations:  AVX2 FMA\n",
      "To enable them in other operations, rebuild TensorFlow with the appropriate compiler flags.\n",
      "2023-03-26 17:08:14.051935: W tensorflow/compiler/xla/stream_executor/platform/default/dso_loader.cc:64] Could not load dynamic library 'libnvinfer.so.7'; dlerror: libnvinfer.so.7: cannot open shared object file: No such file or directory; LD_LIBRARY_PATH: :/home/y41000/miniconda3/envs/tensorfl/lib/:/home/y41000/miniconda3/envs/tensorfl/lib/\n",
      "2023-03-26 17:08:14.052054: W tensorflow/compiler/xla/stream_executor/platform/default/dso_loader.cc:64] Could not load dynamic library 'libnvinfer_plugin.so.7'; dlerror: libnvinfer_plugin.so.7: cannot open shared object file: No such file or directory; LD_LIBRARY_PATH: :/home/y41000/miniconda3/envs/tensorfl/lib/:/home/y41000/miniconda3/envs/tensorfl/lib/\n",
      "2023-03-26 17:08:14.052061: W tensorflow/compiler/tf2tensorrt/utils/py_utils.cc:38] TF-TRT Warning: Cannot dlopen some TensorRT libraries. If you would like to use Nvidia GPU with TensorRT, please make sure the missing libraries mentioned above are installed properly.\n"
     ]
    }
   ],
   "source": [
    "import pandas as pd\n",
    "import numpy as np\n",
    "\n",
    "from sklearn.pipeline import Pipeline\n",
    "from sklearn.preprocessing import RobustScaler\n",
    "from sklearn.metrics import mean_squared_error as rmse\n",
    "from sklearn.metrics import mean_absolute_error as mae\n",
    "\n",
    "import pipe_needs\n",
    "\n",
    "import matplotlib.pyplot as plt\n",
    "from matplotlib.pyplot import figure\n",
    "\n",
    "from datetime import datetime\n"
   ]
  },
  {
   "cell_type": "code",
   "execution_count": 2,
   "id": "dff1dd46",
   "metadata": {
    "executionInfo": {
     "elapsed": 7,
     "status": "ok",
     "timestamp": 1679285562246,
     "user": {
      "displayName": "Honaine Bórquez",
      "userId": "01892143774462287998"
     },
     "user_tz": 180
    },
    "id": "dff1dd46"
   },
   "outputs": [],
   "source": [
    "ventana = 120 #10 días\n",
    "n_features = 1\n",
    "epochs = 100\n",
    "corte_fecha = 201212\n",
    "corte_train_test = 202208\n",
    "INPUTPATH = '/home/y41000/repos/basic-sklearn-pipeline/'"
   ]
  },
  {
   "cell_type": "markdown",
   "id": "a4de0b6a",
   "metadata": {
    "id": "a4de0b6a"
   },
   "source": [
    "## DATA GENERAL PRE-PROCESSING"
   ]
  },
  {
   "cell_type": "code",
   "execution_count": 3,
   "id": "2b3a1306",
   "metadata": {
    "colab": {
     "base_uri": "https://localhost:8080/"
    },
    "executionInfo": {
     "elapsed": 7,
     "status": "ok",
     "timestamp": 1679285562246,
     "user": {
      "displayName": "Honaine Bórquez",
      "userId": "01892143774462287998"
     },
     "user_tz": 180
    },
    "id": "2b3a1306",
    "outputId": "ec1d2830-4179-4731-c129-ea878d3ee96b"
   },
   "outputs": [],
   "source": [
    "# Read.\n",
    "data1 = pd.read_csv(INPUTPATH+'data/EURUSD_Candlestick_1_h_ASK_31.12.2011-31.01.2023.csv', usecols = ['Gmt time','Close'])\n",
    "\n",
    "# Basic transformations.\n",
    "data1['fecha'] = pd.to_datetime(data1['Gmt time'],format='%d.%m.%Y %H:%M:%S.%f')\n",
    "data1[f'precio_EURUSD'] = data1['Close']\n",
    "\n",
    "# Select records from 2013 onwards.\n",
    "data1 = data1[(data1['fecha'].dt.year*100+data1['fecha'].dt.month)>corte_fecha]\n",
    "\n",
    "# Temporal order.\n",
    "data1.sort_values('fecha',inplace=True)\n",
    "\n",
    "# NULOS\n",
    "# For the null values we will take the preceed value.\n",
    "data1['precio_EURUSD'] = data1['precio_EURUSD'].fillna(method='ffill')\n",
    "# Except when we do not have a preceed value, then we will take the next value.\n",
    "data1['precio_EURUSD'] = data1['precio_EURUSD'].fillna(method='bfill')\n",
    "\n",
    "# Target and TRAIN/TEST.\n",
    "X_train=data1[(data1['fecha'].dt.year*100+data1['fecha'].dt.month)< corte_train_test][['fecha','precio_EURUSD']]\n",
    "X_test =data1[(data1['fecha'].dt.year*100+data1['fecha'].dt.month)>=corte_train_test][['fecha','precio_EURUSD']]\n",
    "y_train=data1[(data1['fecha'].dt.year*100+data1['fecha'].dt.month)< corte_train_test][['fecha','precio_EURUSD']].rename(columns={'precio_EURUSD':'target'})\n",
    "y_train['target'] = y_train['target'].shift(-1).fillna(method='ffill')\n",
    "y_test =data1[(data1['fecha'].dt.year*100+data1['fecha'].dt.month)>=corte_train_test][['fecha','precio_EURUSD']].rename(columns={'precio_EURUSD':'target'})\n",
    "y_test['target'] = y_test['target'].shift(-1).fillna(method='ffill')\n",
    "\n",
    "y_train = y_train['target'].values\n",
    "y_test= y_test['target'].values\n",
    "\n",
    "y_train = y_train[ventana-1:len(y_train) ]\n",
    "y_test = y_test[ventana-1:len(y_test) ]\n",
    "\n",
    "# NORMALIZE.\n",
    "X_train.set_index('fecha',inplace=True)\n",
    "X_test.set_index('fecha',inplace=True)\n",
    "\n"
   ]
  },
  {
   "cell_type": "code",
   "execution_count": null,
   "id": "VTYM1AnB01Rp",
   "metadata": {
    "executionInfo": {
     "elapsed": 5,
     "status": "ok",
     "timestamp": 1679285562246,
     "user": {
      "displayName": "Honaine Bórquez",
      "userId": "01892143774462287998"
     },
     "user_tz": 180
    },
    "id": "VTYM1AnB01Rp"
   },
   "outputs": [],
   "source": []
  },
  {
   "cell_type": "markdown",
   "id": "5PytJ9eV9H7X",
   "metadata": {
    "id": "5PytJ9eV9H7X"
   },
   "source": [
    "## PIPE-LINE\n",
    "\n"
   ]
  },
  {
   "cell_type": "code",
   "execution_count": 4,
   "id": "k6bp1wY4_ErX",
   "metadata": {
    "executionInfo": {
     "elapsed": 748,
     "status": "ok",
     "timestamp": 1679285562989,
     "user": {
      "displayName": "Honaine Bórquez",
      "userId": "01892143774462287998"
     },
     "user_tz": 180
    },
    "id": "k6bp1wY4_ErX"
   },
   "outputs": [],
   "source": [
    "LSTM_pipe = Pipeline([\n",
    "    # === SCALING ===\n",
    "    ('Normalization the data with Robust Scaler', RobustScaler()),\n",
    "\n",
    "    # === RE-STRUCTURE ===\n",
    "    ('Fit the data to the LSTM input structure', pipe_needs.ReestructuraLSM(ventana)),\n",
    "\n",
    "    # === MODEL ===\n",
    "    ('LSTM Model', pipe_needs.ModeloLSM(ventana,n_features,epochs))\n",
    "])\n",
    "\n"
   ]
  },
  {
   "cell_type": "code",
   "execution_count": 5,
   "id": "Nop6ktpuYARa",
   "metadata": {
    "colab": {
     "base_uri": "https://localhost:8080/",
     "height": 1000
    },
    "executionInfo": {
     "elapsed": 1081258,
     "status": "ok",
     "timestamp": 1679286644245,
     "user": {
      "displayName": "Honaine Bórquez",
      "userId": "01892143774462287998"
     },
     "user_tz": 180
    },
    "id": "Nop6ktpuYARa",
    "outputId": "6138d0bb-054b-42bb-821e-02154fcba1f9"
   },
   "outputs": [
    {
     "name": "stderr",
     "output_type": "stream",
     "text": [
      "2023-03-26 17:08:20.334062: I tensorflow/compiler/xla/stream_executor/cuda/cuda_gpu_executor.cc:981] successful NUMA node read from SysFS had negative value (-1), but there must be at least one NUMA node, so returning NUMA node zero\n",
      "2023-03-26 17:08:20.338782: I tensorflow/compiler/xla/stream_executor/cuda/cuda_gpu_executor.cc:981] successful NUMA node read from SysFS had negative value (-1), but there must be at least one NUMA node, so returning NUMA node zero\n",
      "2023-03-26 17:08:20.338983: I tensorflow/compiler/xla/stream_executor/cuda/cuda_gpu_executor.cc:981] successful NUMA node read from SysFS had negative value (-1), but there must be at least one NUMA node, so returning NUMA node zero\n",
      "2023-03-26 17:08:20.339514: I tensorflow/core/platform/cpu_feature_guard.cc:193] This TensorFlow binary is optimized with oneAPI Deep Neural Network Library (oneDNN) to use the following CPU instructions in performance-critical operations:  AVX2 FMA\n",
      "To enable them in other operations, rebuild TensorFlow with the appropriate compiler flags.\n",
      "2023-03-26 17:08:20.340080: I tensorflow/compiler/xla/stream_executor/cuda/cuda_gpu_executor.cc:981] successful NUMA node read from SysFS had negative value (-1), but there must be at least one NUMA node, so returning NUMA node zero\n",
      "2023-03-26 17:08:20.340249: I tensorflow/compiler/xla/stream_executor/cuda/cuda_gpu_executor.cc:981] successful NUMA node read from SysFS had negative value (-1), but there must be at least one NUMA node, so returning NUMA node zero\n",
      "2023-03-26 17:08:20.340394: I tensorflow/compiler/xla/stream_executor/cuda/cuda_gpu_executor.cc:981] successful NUMA node read from SysFS had negative value (-1), but there must be at least one NUMA node, so returning NUMA node zero\n",
      "2023-03-26 17:08:20.831382: I tensorflow/compiler/xla/stream_executor/cuda/cuda_gpu_executor.cc:981] successful NUMA node read from SysFS had negative value (-1), but there must be at least one NUMA node, so returning NUMA node zero\n",
      "2023-03-26 17:08:20.831586: I tensorflow/compiler/xla/stream_executor/cuda/cuda_gpu_executor.cc:981] successful NUMA node read from SysFS had negative value (-1), but there must be at least one NUMA node, so returning NUMA node zero\n",
      "2023-03-26 17:08:20.831734: I tensorflow/compiler/xla/stream_executor/cuda/cuda_gpu_executor.cc:981] successful NUMA node read from SysFS had negative value (-1), but there must be at least one NUMA node, so returning NUMA node zero\n",
      "2023-03-26 17:08:20.831845: I tensorflow/core/common_runtime/gpu/gpu_device.cc:1613] Created device /job:localhost/replica:0/task:0/device:GPU:0 with 3354 MB memory:  -> device: 0, name: NVIDIA GeForce GTX 1050 Ti, pci bus id: 0000:01:00.0, compute capability: 6.1\n"
     ]
    },
    {
     "name": "stdout",
     "output_type": "stream",
     "text": [
      "Epoch 1/100\n"
     ]
    },
    {
     "name": "stderr",
     "output_type": "stream",
     "text": [
      "2023-03-26 17:08:22.691326: I tensorflow/compiler/xla/stream_executor/cuda/cuda_dnn.cc:428] Loaded cuDNN version 8100\n",
      "2023-03-26 17:08:22.964705: I tensorflow/compiler/xla/service/service.cc:173] XLA service 0x7f6c7a0ded20 initialized for platform CUDA (this does not guarantee that XLA will be used). Devices:\n",
      "2023-03-26 17:08:22.964748: I tensorflow/compiler/xla/service/service.cc:181]   StreamExecutor device (0): NVIDIA GeForce GTX 1050 Ti, Compute Capability 6.1\n",
      "2023-03-26 17:08:22.969007: I tensorflow/compiler/mlir/tensorflow/utils/dump_mlir_util.cc:268] disabling MLIR crash reproducer, set env var `MLIR_CRASH_REPRODUCER_DIRECTORY` to enable.\n",
      "2023-03-26 17:08:23.105064: I tensorflow/compiler/jit/xla_compilation_cache.cc:477] Compiled cluster using XLA!  This line is logged at most once for the lifetime of the process.\n"
     ]
    },
    {
     "name": "stdout",
     "output_type": "stream",
     "text": [
      "1862/1862 [==============================] - 12s 5ms/step - loss: 0.0109\n",
      "Epoch 2/100\n",
      "1862/1862 [==============================] - 10s 5ms/step - loss: 4.7591e-06\n",
      "Epoch 3/100\n",
      "1862/1862 [==============================] - 10s 5ms/step - loss: 8.4930e-06\n",
      "Epoch 4/100\n",
      "1862/1862 [==============================] - 10s 5ms/step - loss: 9.3833e-06\n",
      "Epoch 5/100\n",
      "1862/1862 [==============================] - 10s 5ms/step - loss: 8.4668e-06\n",
      "Epoch 6/100\n",
      "1862/1862 [==============================] - 10s 5ms/step - loss: 7.1496e-06\n",
      "Epoch 7/100\n",
      "1862/1862 [==============================] - 10s 5ms/step - loss: 5.3125e-06\n",
      "Epoch 8/100\n",
      "1862/1862 [==============================] - 10s 5ms/step - loss: 4.9943e-06\n",
      "Epoch 9/100\n",
      "1862/1862 [==============================] - 10s 5ms/step - loss: 4.3086e-06\n",
      "Epoch 10/100\n",
      "1862/1862 [==============================] - 10s 5ms/step - loss: 4.1108e-06\n",
      "Epoch 11/100\n",
      "1862/1862 [==============================] - 10s 5ms/step - loss: 3.8706e-06\n",
      "Epoch 12/100\n",
      "1862/1862 [==============================] - 10s 5ms/step - loss: 3.4015e-06\n",
      "Epoch 13/100\n",
      "1862/1862 [==============================] - 10s 6ms/step - loss: 3.2603e-06\n",
      "Epoch 14/100\n",
      "1862/1862 [==============================] - 10s 5ms/step - loss: 3.1736e-06\n",
      "Epoch 15/100\n",
      "1862/1862 [==============================] - 11s 6ms/step - loss: 2.9537e-06\n",
      "Epoch 16/100\n",
      "1862/1862 [==============================] - 11s 6ms/step - loss: 3.0077e-06\n",
      "Epoch 17/100\n",
      "1862/1862 [==============================] - 10s 5ms/step - loss: 2.8739e-06\n",
      "Epoch 18/100\n",
      "1862/1862 [==============================] - 10s 6ms/step - loss: 2.7659e-06\n",
      "Epoch 19/100\n",
      "1862/1862 [==============================] - 10s 6ms/step - loss: 2.6540e-06\n",
      "Epoch 20/100\n",
      "1862/1862 [==============================] - 10s 5ms/step - loss: 2.5952e-06\n",
      "Epoch 21/100\n",
      "1862/1862 [==============================] - 10s 5ms/step - loss: 2.4700e-06\n",
      "Epoch 22/100\n",
      "1862/1862 [==============================] - 10s 5ms/step - loss: 2.5151e-06\n",
      "Epoch 23/100\n",
      "1862/1862 [==============================] - 10s 5ms/step - loss: 2.4286e-06\n",
      "Epoch 24/100\n",
      "1862/1862 [==============================] - 10s 5ms/step - loss: 2.4273e-06\n",
      "Epoch 25/100\n",
      "1862/1862 [==============================] - 10s 5ms/step - loss: 2.4676e-06\n",
      "Epoch 26/100\n",
      "1862/1862 [==============================] - 10s 5ms/step - loss: 2.3602e-06\n",
      "Epoch 27/100\n",
      "1862/1862 [==============================] - 10s 5ms/step - loss: 2.4976e-06\n",
      "Epoch 28/100\n",
      "1862/1862 [==============================] - 10s 6ms/step - loss: 2.3963e-06\n",
      "Epoch 29/100\n",
      "1862/1862 [==============================] - 10s 5ms/step - loss: 2.2937e-06\n",
      "Epoch 30/100\n",
      "1862/1862 [==============================] - 10s 6ms/step - loss: 2.1879e-06\n",
      "Epoch 31/100\n",
      "1862/1862 [==============================] - 10s 5ms/step - loss: 2.2604e-06\n",
      "Epoch 32/100\n",
      "1862/1862 [==============================] - 10s 5ms/step - loss: 2.2774e-06\n",
      "Epoch 33/100\n",
      "1862/1862 [==============================] - 10s 5ms/step - loss: 2.0578e-06\n",
      "Epoch 34/100\n",
      "1862/1862 [==============================] - 10s 5ms/step - loss: 2.1064e-06\n",
      "Epoch 35/100\n",
      "1862/1862 [==============================] - 10s 6ms/step - loss: 2.2110e-06\n",
      "Epoch 36/100\n",
      "1862/1862 [==============================] - 10s 6ms/step - loss: 2.2080e-06\n",
      "Epoch 37/100\n",
      "1862/1862 [==============================] - 10s 5ms/step - loss: 2.1303e-06\n",
      "Epoch 38/100\n",
      "1862/1862 [==============================] - 10s 5ms/step - loss: 2.0845e-06\n",
      "Epoch 39/100\n",
      "1862/1862 [==============================] - 10s 6ms/step - loss: 2.1740e-06\n",
      "Epoch 40/100\n",
      "1862/1862 [==============================] - 11s 6ms/step - loss: 2.0611e-06\n",
      "Epoch 41/100\n",
      "1862/1862 [==============================] - 11s 6ms/step - loss: 2.0812e-06\n",
      "Epoch 42/100\n",
      "1862/1862 [==============================] - 10s 6ms/step - loss: 2.0790e-06\n",
      "Epoch 43/100\n",
      "1862/1862 [==============================] - 11s 6ms/step - loss: 2.0283e-06\n",
      "Epoch 44/100\n",
      "1862/1862 [==============================] - 10s 6ms/step - loss: 2.0536e-06\n",
      "Epoch 45/100\n",
      "1862/1862 [==============================] - 10s 6ms/step - loss: 2.0461e-06\n",
      "Epoch 46/100\n",
      "1862/1862 [==============================] - 10s 6ms/step - loss: 2.1381e-06\n",
      "Epoch 47/100\n",
      "1862/1862 [==============================] - 10s 6ms/step - loss: 1.9663e-06\n",
      "Epoch 48/100\n",
      "1862/1862 [==============================] - 10s 6ms/step - loss: 1.9944e-06\n",
      "Epoch 49/100\n",
      "1862/1862 [==============================] - 10s 5ms/step - loss: 1.9652e-06\n",
      "Epoch 50/100\n",
      "1862/1862 [==============================] - 10s 5ms/step - loss: 2.0079e-06\n",
      "Epoch 51/100\n",
      "1862/1862 [==============================] - 10s 5ms/step - loss: 1.9823e-06\n",
      "Epoch 52/100\n",
      "1862/1862 [==============================] - 10s 5ms/step - loss: 2.0084e-06\n",
      "Epoch 53/100\n",
      "1862/1862 [==============================] - 10s 5ms/step - loss: 2.0461e-06\n",
      "Epoch 54/100\n",
      "1862/1862 [==============================] - 10s 5ms/step - loss: 1.9604e-06\n",
      "Epoch 55/100\n",
      "1862/1862 [==============================] - 10s 5ms/step - loss: 1.9657e-06\n",
      "Epoch 56/100\n",
      "1862/1862 [==============================] - 10s 5ms/step - loss: 1.9297e-06\n",
      "Epoch 57/100\n",
      "1862/1862 [==============================] - 10s 5ms/step - loss: 1.9307e-06\n",
      "Epoch 58/100\n",
      "1862/1862 [==============================] - 10s 5ms/step - loss: 1.9232e-06\n",
      "Epoch 59/100\n",
      "1862/1862 [==============================] - 10s 5ms/step - loss: 1.9884e-06\n",
      "Epoch 60/100\n",
      "1862/1862 [==============================] - 10s 5ms/step - loss: 1.9109e-06\n",
      "Epoch 61/100\n",
      "1862/1862 [==============================] - 10s 5ms/step - loss: 1.9892e-06\n",
      "Epoch 62/100\n",
      "1862/1862 [==============================] - 10s 5ms/step - loss: 1.8715e-06\n",
      "Epoch 63/100\n",
      "1862/1862 [==============================] - 10s 5ms/step - loss: 1.9304e-06\n",
      "Epoch 64/100\n",
      "1862/1862 [==============================] - 10s 6ms/step - loss: 1.8718e-06\n",
      "Epoch 65/100\n",
      "1862/1862 [==============================] - 10s 5ms/step - loss: 1.9176e-06\n",
      "Epoch 66/100\n",
      "1862/1862 [==============================] - 10s 6ms/step - loss: 1.9003e-06\n",
      "Epoch 67/100\n",
      "1862/1862 [==============================] - 10s 5ms/step - loss: 1.9423e-06\n",
      "Epoch 68/100\n",
      "1862/1862 [==============================] - 10s 5ms/step - loss: 1.9594e-06\n",
      "Epoch 69/100\n",
      "1862/1862 [==============================] - 10s 5ms/step - loss: 1.9249e-06\n",
      "Epoch 70/100\n",
      "1862/1862 [==============================] - 10s 5ms/step - loss: 1.9198e-06\n",
      "Epoch 71/100\n",
      "1862/1862 [==============================] - 10s 5ms/step - loss: 1.8663e-06\n",
      "Epoch 72/100\n",
      "1862/1862 [==============================] - 10s 5ms/step - loss: 1.9409e-06\n",
      "Epoch 73/100\n",
      "1862/1862 [==============================] - 10s 5ms/step - loss: 1.8770e-06\n",
      "Epoch 74/100\n",
      "1862/1862 [==============================] - 10s 5ms/step - loss: 1.9726e-06\n",
      "Epoch 75/100\n",
      "1862/1862 [==============================] - 10s 5ms/step - loss: 1.8874e-06\n",
      "Epoch 76/100\n",
      "1862/1862 [==============================] - 10s 5ms/step - loss: 1.8675e-06\n",
      "Epoch 77/100\n",
      "1862/1862 [==============================] - 10s 5ms/step - loss: 1.9170e-06\n",
      "Epoch 78/100\n",
      "1862/1862 [==============================] - 10s 5ms/step - loss: 1.9001e-06\n",
      "Epoch 79/100\n",
      "1862/1862 [==============================] - 10s 5ms/step - loss: 1.9738e-06\n",
      "Epoch 80/100\n",
      "1862/1862 [==============================] - 10s 5ms/step - loss: 1.8115e-06\n",
      "Epoch 81/100\n",
      "1862/1862 [==============================] - 10s 5ms/step - loss: 1.9131e-06\n",
      "Epoch 82/100\n",
      "1862/1862 [==============================] - 10s 5ms/step - loss: 1.8731e-06\n",
      "Epoch 83/100\n",
      "1862/1862 [==============================] - 10s 5ms/step - loss: 1.9541e-06\n",
      "Epoch 84/100\n",
      "1862/1862 [==============================] - 10s 5ms/step - loss: 1.8815e-06\n",
      "Epoch 85/100\n",
      "1862/1862 [==============================] - 10s 5ms/step - loss: 1.8491e-06\n",
      "Epoch 86/100\n",
      "1862/1862 [==============================] - 10s 5ms/step - loss: 1.9206e-06\n",
      "Epoch 87/100\n",
      "1862/1862 [==============================] - 10s 5ms/step - loss: 1.9326e-06\n",
      "Epoch 88/100\n",
      "1862/1862 [==============================] - 10s 5ms/step - loss: 1.8970e-06\n",
      "Epoch 89/100\n",
      "1862/1862 [==============================] - 10s 5ms/step - loss: 1.8525e-06\n",
      "Epoch 90/100\n",
      "1862/1862 [==============================] - 10s 5ms/step - loss: 1.8505e-06\n",
      "Epoch 91/100\n",
      "1862/1862 [==============================] - 10s 5ms/step - loss: 1.8468e-06\n",
      "Epoch 92/100\n"
     ]
    },
    {
     "name": "stdout",
     "output_type": "stream",
     "text": [
      "1862/1862 [==============================] - 10s 5ms/step - loss: 1.8135e-06\n",
      "Epoch 93/100\n",
      "1862/1862 [==============================] - 10s 5ms/step - loss: 1.9265e-06\n",
      "Epoch 94/100\n",
      "1862/1862 [==============================] - 10s 5ms/step - loss: 1.8810e-06\n",
      "Epoch 95/100\n",
      "1862/1862 [==============================] - 10s 5ms/step - loss: 1.8418e-06\n",
      "Epoch 96/100\n",
      "1862/1862 [==============================] - 10s 5ms/step - loss: 1.8645e-06\n",
      "Epoch 97/100\n",
      "1862/1862 [==============================] - 10s 5ms/step - loss: 1.8628e-06\n",
      "Epoch 98/100\n",
      "1862/1862 [==============================] - 10s 5ms/step - loss: 1.8838e-06\n",
      "Epoch 99/100\n",
      "1862/1862 [==============================] - 10s 5ms/step - loss: 1.8394e-06\n",
      "Epoch 100/100\n",
      "1862/1862 [==============================] - 10s 5ms/step - loss: 1.8604e-06\n"
     ]
    },
    {
     "data": {
      "text/html": [
       "<style>#sk-container-id-1 {color: black;background-color: white;}#sk-container-id-1 pre{padding: 0;}#sk-container-id-1 div.sk-toggleable {background-color: white;}#sk-container-id-1 label.sk-toggleable__label {cursor: pointer;display: block;width: 100%;margin-bottom: 0;padding: 0.3em;box-sizing: border-box;text-align: center;}#sk-container-id-1 label.sk-toggleable__label-arrow:before {content: \"▸\";float: left;margin-right: 0.25em;color: #696969;}#sk-container-id-1 label.sk-toggleable__label-arrow:hover:before {color: black;}#sk-container-id-1 div.sk-estimator:hover label.sk-toggleable__label-arrow:before {color: black;}#sk-container-id-1 div.sk-toggleable__content {max-height: 0;max-width: 0;overflow: hidden;text-align: left;background-color: #f0f8ff;}#sk-container-id-1 div.sk-toggleable__content pre {margin: 0.2em;color: black;border-radius: 0.25em;background-color: #f0f8ff;}#sk-container-id-1 input.sk-toggleable__control:checked~div.sk-toggleable__content {max-height: 200px;max-width: 100%;overflow: auto;}#sk-container-id-1 input.sk-toggleable__control:checked~label.sk-toggleable__label-arrow:before {content: \"▾\";}#sk-container-id-1 div.sk-estimator input.sk-toggleable__control:checked~label.sk-toggleable__label {background-color: #d4ebff;}#sk-container-id-1 div.sk-label input.sk-toggleable__control:checked~label.sk-toggleable__label {background-color: #d4ebff;}#sk-container-id-1 input.sk-hidden--visually {border: 0;clip: rect(1px 1px 1px 1px);clip: rect(1px, 1px, 1px, 1px);height: 1px;margin: -1px;overflow: hidden;padding: 0;position: absolute;width: 1px;}#sk-container-id-1 div.sk-estimator {font-family: monospace;background-color: #f0f8ff;border: 1px dotted black;border-radius: 0.25em;box-sizing: border-box;margin-bottom: 0.5em;}#sk-container-id-1 div.sk-estimator:hover {background-color: #d4ebff;}#sk-container-id-1 div.sk-parallel-item::after {content: \"\";width: 100%;border-bottom: 1px solid gray;flex-grow: 1;}#sk-container-id-1 div.sk-label:hover label.sk-toggleable__label {background-color: #d4ebff;}#sk-container-id-1 div.sk-serial::before {content: \"\";position: absolute;border-left: 1px solid gray;box-sizing: border-box;top: 0;bottom: 0;left: 50%;z-index: 0;}#sk-container-id-1 div.sk-serial {display: flex;flex-direction: column;align-items: center;background-color: white;padding-right: 0.2em;padding-left: 0.2em;position: relative;}#sk-container-id-1 div.sk-item {position: relative;z-index: 1;}#sk-container-id-1 div.sk-parallel {display: flex;align-items: stretch;justify-content: center;background-color: white;position: relative;}#sk-container-id-1 div.sk-item::before, #sk-container-id-1 div.sk-parallel-item::before {content: \"\";position: absolute;border-left: 1px solid gray;box-sizing: border-box;top: 0;bottom: 0;left: 50%;z-index: -1;}#sk-container-id-1 div.sk-parallel-item {display: flex;flex-direction: column;z-index: 1;position: relative;background-color: white;}#sk-container-id-1 div.sk-parallel-item:first-child::after {align-self: flex-end;width: 50%;}#sk-container-id-1 div.sk-parallel-item:last-child::after {align-self: flex-start;width: 50%;}#sk-container-id-1 div.sk-parallel-item:only-child::after {width: 0;}#sk-container-id-1 div.sk-dashed-wrapped {border: 1px dashed gray;margin: 0 0.4em 0.5em 0.4em;box-sizing: border-box;padding-bottom: 0.4em;background-color: white;}#sk-container-id-1 div.sk-label label {font-family: monospace;font-weight: bold;display: inline-block;line-height: 1.2em;}#sk-container-id-1 div.sk-label-container {text-align: center;}#sk-container-id-1 div.sk-container {/* jupyter's `normalize.less` sets `[hidden] { display: none; }` but bootstrap.min.css set `[hidden] { display: none !important; }` so we also need the `!important` here to be able to override the default hidden behavior on the sphinx rendered scikit-learn.org. See: https://github.com/scikit-learn/scikit-learn/issues/21755 */display: inline-block !important;position: relative;}#sk-container-id-1 div.sk-text-repr-fallback {display: none;}</style><div id=\"sk-container-id-1\" class=\"sk-top-container\"><div class=\"sk-text-repr-fallback\"><pre>Pipeline(steps=[(&#x27;Normalization the data with Robust Scaler&#x27;, RobustScaler()),\n",
       "                (&#x27;Fit the data to the LSTM input structure&#x27;,\n",
       "                 &lt;pipe_needs.ReestructuraLSM object at 0x7f6e9f1f30d0&gt;),\n",
       "                (&#x27;LSTM Model&#x27;,\n",
       "                 &lt;pipe_needs.ModeloLSM object at 0x7f6e9f1f32b0&gt;)])</pre><b>In a Jupyter environment, please rerun this cell to show the HTML representation or trust the notebook. <br />On GitHub, the HTML representation is unable to render, please try loading this page with nbviewer.org.</b></div><div class=\"sk-container\" hidden><div class=\"sk-item sk-dashed-wrapped\"><div class=\"sk-label-container\"><div class=\"sk-label sk-toggleable\"><input class=\"sk-toggleable__control sk-hidden--visually\" id=\"sk-estimator-id-1\" type=\"checkbox\" ><label for=\"sk-estimator-id-1\" class=\"sk-toggleable__label sk-toggleable__label-arrow\">Pipeline</label><div class=\"sk-toggleable__content\"><pre>Pipeline(steps=[(&#x27;Normalization the data with Robust Scaler&#x27;, RobustScaler()),\n",
       "                (&#x27;Fit the data to the LSTM input structure&#x27;,\n",
       "                 &lt;pipe_needs.ReestructuraLSM object at 0x7f6e9f1f30d0&gt;),\n",
       "                (&#x27;LSTM Model&#x27;,\n",
       "                 &lt;pipe_needs.ModeloLSM object at 0x7f6e9f1f32b0&gt;)])</pre></div></div></div><div class=\"sk-serial\"><div class=\"sk-item\"><div class=\"sk-estimator sk-toggleable\"><input class=\"sk-toggleable__control sk-hidden--visually\" id=\"sk-estimator-id-2\" type=\"checkbox\" ><label for=\"sk-estimator-id-2\" class=\"sk-toggleable__label sk-toggleable__label-arrow\">RobustScaler</label><div class=\"sk-toggleable__content\"><pre>RobustScaler()</pre></div></div></div><div class=\"sk-item\"><div class=\"sk-estimator sk-toggleable\"><input class=\"sk-toggleable__control sk-hidden--visually\" id=\"sk-estimator-id-3\" type=\"checkbox\" ><label for=\"sk-estimator-id-3\" class=\"sk-toggleable__label sk-toggleable__label-arrow\">ReestructuraLSM</label><div class=\"sk-toggleable__content\"><pre>&lt;pipe_needs.ReestructuraLSM object at 0x7f6e9f1f30d0&gt;</pre></div></div></div><div class=\"sk-item\"><div class=\"sk-estimator sk-toggleable\"><input class=\"sk-toggleable__control sk-hidden--visually\" id=\"sk-estimator-id-4\" type=\"checkbox\" ><label for=\"sk-estimator-id-4\" class=\"sk-toggleable__label sk-toggleable__label-arrow\">ModeloLSM</label><div class=\"sk-toggleable__content\"><pre>&lt;pipe_needs.ModeloLSM object at 0x7f6e9f1f32b0&gt;</pre></div></div></div></div></div></div></div>"
      ],
      "text/plain": [
       "Pipeline(steps=[('Normalization the data with Robust Scaler', RobustScaler()),\n",
       "                ('Fit the data to the LSTM input structure',\n",
       "                 <pipe_needs.ReestructuraLSM object at 0x7f6e9f1f30d0>),\n",
       "                ('LSTM Model',\n",
       "                 <pipe_needs.ModeloLSM object at 0x7f6e9f1f32b0>)])"
      ]
     },
     "execution_count": 5,
     "metadata": {},
     "output_type": "execute_result"
    }
   ],
   "source": [
    "LSTM_pipe.fit(X_train,y_train)\n"
   ]
  },
  {
   "cell_type": "code",
   "execution_count": 6,
   "id": "0M-BCE0YG0rW",
   "metadata": {
    "colab": {
     "base_uri": "https://localhost:8080/"
    },
    "executionInfo": {
     "elapsed": 14675,
     "status": "ok",
     "timestamp": 1679286658916,
     "user": {
      "displayName": "Honaine Bórquez",
      "userId": "01892143774462287998"
     },
     "user_tz": 180
    },
    "id": "0M-BCE0YG0rW",
    "outputId": "bb96ff22-c132-4202-bea2-c9b7e05b778a"
   },
   "outputs": [
    {
     "name": "stdout",
     "output_type": "stream",
     "text": [
      "1862/1862 [==============================] - 5s 2ms/step\n",
      "96/96 [==============================] - 0s 2ms/step\n"
     ]
    }
   ],
   "source": [
    "\n",
    "yhat_train = LSTM_pipe.transform(X_train)\n",
    "yhat_test = LSTM_pipe.transform(X_test)"
   ]
  },
  {
   "cell_type": "code",
   "execution_count": null,
   "id": "ASQ9WmS2j5Kl",
   "metadata": {
    "executionInfo": {
     "elapsed": 29,
     "status": "ok",
     "timestamp": 1679286658916,
     "user": {
      "displayName": "Honaine Bórquez",
      "userId": "01892143774462287998"
     },
     "user_tz": 180
    },
    "id": "ASQ9WmS2j5Kl"
   },
   "outputs": [],
   "source": []
  },
  {
   "cell_type": "markdown",
   "id": "1j1W0Imqj6n1",
   "metadata": {
    "id": "1j1W0Imqj6n1"
   },
   "source": [
    "## TEST"
   ]
  },
  {
   "cell_type": "code",
   "execution_count": null,
   "id": "T4rCkrARo02F",
   "metadata": {
    "executionInfo": {
     "elapsed": 28,
     "status": "ok",
     "timestamp": 1679286658916,
     "user": {
      "displayName": "Honaine Bórquez",
      "userId": "01892143774462287998"
     },
     "user_tz": 180
    },
    "id": "T4rCkrARo02F"
   },
   "outputs": [],
   "source": []
  },
  {
   "cell_type": "markdown",
   "id": "vRFNECnAo1xr",
   "metadata": {
    "id": "vRFNECnAo1xr"
   },
   "source": [
    "**ERRORS**"
   ]
  },
  {
   "cell_type": "code",
   "execution_count": 7,
   "id": "Jw2KDsHdkRAC",
   "metadata": {
    "executionInfo": {
     "elapsed": 28,
     "status": "ok",
     "timestamp": 1679286658917,
     "user": {
      "displayName": "Honaine Bórquez",
      "userId": "01892143774462287998"
     },
     "user_tz": 180
    },
    "id": "Jw2KDsHdkRAC"
   },
   "outputs": [],
   "source": [
    "rmse_test = rmse(y_test,yhat_test.flatten(), squared=False)\n",
    "mae_test = mae(y_test,yhat_test.flatten())\n",
    "\n"
   ]
  },
  {
   "cell_type": "code",
   "execution_count": 8,
   "id": "TK3AFsJbm-1B",
   "metadata": {
    "colab": {
     "base_uri": "https://localhost:8080/"
    },
    "executionInfo": {
     "elapsed": 28,
     "status": "ok",
     "timestamp": 1679286658917,
     "user": {
      "displayName": "Honaine Bórquez",
      "userId": "01892143774462287998"
     },
     "user_tz": 180
    },
    "id": "TK3AFsJbm-1B",
    "outputId": "cab7eb39-a45e-43a2-bf7d-e56669b340eb"
   },
   "outputs": [
    {
     "name": "stdout",
     "output_type": "stream",
     "text": [
      "RMSE: 0.0015603555904982647\n",
      "RMSE/Promedio: 0.1523%\n",
      "\n",
      "MAE: 0.001030043973885478\n",
      "MAE/Promedio: 0.1005%\n"
     ]
    }
   ],
   "source": [
    "print(f'RMSE: {rmse_test}\\nRMSE/Promedio: {round(100*rmse_test/y_test.mean(),4)}%\\n\\nMAE: {mae_test}\\nMAE/Promedio: {round(100*mae_test/y_test.mean(),4)}%')\n",
    "\n"
   ]
  },
  {
   "cell_type": "code",
   "execution_count": null,
   "id": "TVZSLlsBn1nd",
   "metadata": {
    "executionInfo": {
     "elapsed": 27,
     "status": "ok",
     "timestamp": 1679286658917,
     "user": {
      "displayName": "Honaine Bórquez",
      "userId": "01892143774462287998"
     },
     "user_tz": 180
    },
    "id": "TVZSLlsBn1nd"
   },
   "outputs": [],
   "source": []
  },
  {
   "cell_type": "markdown",
   "id": "4bocsgX5o5sN",
   "metadata": {
    "id": "4bocsgX5o5sN"
   },
   "source": [
    "**SIGNS**\n",
    "\n",
    "How many times the model hits when says that the price goes up or goes down?"
   ]
  },
  {
   "cell_type": "code",
   "execution_count": 9,
   "id": "PDQNVjENqes_",
   "metadata": {
    "colab": {
     "base_uri": "https://localhost:8080/",
     "height": 174
    },
    "executionInfo": {
     "elapsed": 27,
     "status": "ok",
     "timestamp": 1679286658918,
     "user": {
      "displayName": "Honaine Bórquez",
      "userId": "01892143774462287998"
     },
     "user_tz": 180
    },
    "id": "PDQNVjENqes_",
    "outputId": "911f10a5-8d00-4463-80b4-8b4f5bbea46e"
   },
   "outputs": [
    {
     "data": {
      "text/html": [
       "<div>\n",
       "<style scoped>\n",
       "    .dataframe tbody tr th:only-of-type {\n",
       "        vertical-align: middle;\n",
       "    }\n",
       "\n",
       "    .dataframe tbody tr th {\n",
       "        vertical-align: top;\n",
       "    }\n",
       "\n",
       "    .dataframe thead th {\n",
       "        text-align: right;\n",
       "    }\n",
       "</style>\n",
       "<table border=\"1\" class=\"dataframe\">\n",
       "  <thead>\n",
       "    <tr style=\"text-align: right;\">\n",
       "      <th>col_0</th>\n",
       "      <th>-1.0</th>\n",
       "      <th>1.0</th>\n",
       "    </tr>\n",
       "    <tr>\n",
       "      <th>row_0</th>\n",
       "      <th></th>\n",
       "      <th></th>\n",
       "    </tr>\n",
       "  </thead>\n",
       "  <tbody>\n",
       "    <tr>\n",
       "      <th>-1.0</th>\n",
       "      <td>709</td>\n",
       "      <td>806</td>\n",
       "    </tr>\n",
       "    <tr>\n",
       "      <th>0.0</th>\n",
       "      <td>7</td>\n",
       "      <td>12</td>\n",
       "    </tr>\n",
       "    <tr>\n",
       "      <th>1.0</th>\n",
       "      <td>809</td>\n",
       "      <td>728</td>\n",
       "    </tr>\n",
       "  </tbody>\n",
       "</table>\n",
       "</div>"
      ],
      "text/plain": [
       "col_0  -1.0   1.0\n",
       "row_0            \n",
       "-1.0    709   806\n",
       " 0.0      7    12\n",
       " 1.0    809   728"
      ]
     },
     "execution_count": 9,
     "metadata": {},
     "output_type": "execute_result"
    }
   ],
   "source": [
    "\n",
    "signo = np.sign(y_test[1:]-y_test[:-1])\n",
    "signohat = np.sign(yhat_test.flatten()[1:]-yhat_test.flatten()[:-1])\n",
    "pd.crosstab(signo,signohat)"
   ]
  },
  {
   "cell_type": "code",
   "execution_count": null,
   "id": "6ypf9i9vo6_6",
   "metadata": {
    "executionInfo": {
     "elapsed": 26,
     "status": "ok",
     "timestamp": 1679286658918,
     "user": {
      "displayName": "Honaine Bórquez",
      "userId": "01892143774462287998"
     },
     "user_tz": 180
    },
    "id": "6ypf9i9vo6_6"
   },
   "outputs": [],
   "source": []
  },
  {
   "cell_type": "markdown",
   "id": "QjIRCVUWs5Hy",
   "metadata": {
    "id": "QjIRCVUWs5Hy"
   },
   "source": [
    "The same than before but demanding a minimun variation."
   ]
  },
  {
   "cell_type": "code",
   "execution_count": 10,
   "id": "xjTLytsLtPme",
   "metadata": {
    "colab": {
     "base_uri": "https://localhost:8080/",
     "height": 174
    },
    "executionInfo": {
     "elapsed": 26,
     "status": "ok",
     "timestamp": 1679286658918,
     "user": {
      "displayName": "Honaine Bórquez",
      "userId": "01892143774462287998"
     },
     "user_tz": 180
    },
    "id": "xjTLytsLtPme",
    "outputId": "ff6c1c92-d971-4abe-e5b5-d3ee5434237e"
   },
   "outputs": [
    {
     "data": {
      "text/html": [
       "<div>\n",
       "<style scoped>\n",
       "    .dataframe tbody tr th:only-of-type {\n",
       "        vertical-align: middle;\n",
       "    }\n",
       "\n",
       "    .dataframe tbody tr th {\n",
       "        vertical-align: top;\n",
       "    }\n",
       "\n",
       "    .dataframe thead th {\n",
       "        text-align: right;\n",
       "    }\n",
       "</style>\n",
       "<table border=\"1\" class=\"dataframe\">\n",
       "  <thead>\n",
       "    <tr style=\"text-align: right;\">\n",
       "      <th>col_0</th>\n",
       "      <th>-1.0</th>\n",
       "      <th>0.0</th>\n",
       "      <th>1.0</th>\n",
       "    </tr>\n",
       "    <tr>\n",
       "      <th>row_0</th>\n",
       "      <th></th>\n",
       "      <th></th>\n",
       "      <th></th>\n",
       "    </tr>\n",
       "  </thead>\n",
       "  <tbody>\n",
       "    <tr>\n",
       "      <th>-1.0</th>\n",
       "      <td>154</td>\n",
       "      <td>484</td>\n",
       "      <td>187</td>\n",
       "    </tr>\n",
       "    <tr>\n",
       "      <th>0.0</th>\n",
       "      <td>200</td>\n",
       "      <td>1033</td>\n",
       "      <td>183</td>\n",
       "    </tr>\n",
       "    <tr>\n",
       "      <th>1.0</th>\n",
       "      <td>185</td>\n",
       "      <td>487</td>\n",
       "      <td>158</td>\n",
       "    </tr>\n",
       "  </tbody>\n",
       "</table>\n",
       "</div>"
      ],
      "text/plain": [
       "col_0  -1.0   0.0   1.0\n",
       "row_0                  \n",
       "-1.0    154   484   187\n",
       " 0.0    200  1033   183\n",
       " 1.0    185   487   158"
      ]
     },
     "execution_count": 10,
     "metadata": {},
     "output_type": "execute_result"
    }
   ],
   "source": [
    "\n",
    "signo = np.where(np.abs(y_test[1:]-y_test[:-1])>0.00059,signo,0)\n",
    "signohat = np.where(np.abs(yhat_test.flatten()[1:]-yhat_test.flatten()[:-1])>0.00099,signohat,0)\n",
    "pd.crosstab(signo,signohat)"
   ]
  },
  {
   "cell_type": "code",
   "execution_count": null,
   "id": "r4UNRxAotXE6",
   "metadata": {
    "executionInfo": {
     "elapsed": 25,
     "status": "ok",
     "timestamp": 1679286658918,
     "user": {
      "displayName": "Honaine Bórquez",
      "userId": "01892143774462287998"
     },
     "user_tz": 180
    },
    "id": "r4UNRxAotXE6"
   },
   "outputs": [],
   "source": []
  },
  {
   "cell_type": "markdown",
   "id": "UELOR7qYv5gb",
   "metadata": {
    "id": "UELOR7qYv5gb"
   },
   "source": [
    "**CHART**"
   ]
  },
  {
   "cell_type": "code",
   "execution_count": null,
   "id": "7DRrKo-Mw976",
   "metadata": {
    "executionInfo": {
     "elapsed": 26,
     "status": "ok",
     "timestamp": 1679286658919,
     "user": {
      "displayName": "Honaine Bórquez",
      "userId": "01892143774462287998"
     },
     "user_tz": 180
    },
    "id": "7DRrKo-Mw976"
   },
   "outputs": [],
   "source": []
  },
  {
   "cell_type": "code",
   "execution_count": 11,
   "id": "js3G8nWFuvEa",
   "metadata": {
    "colab": {
     "base_uri": "https://localhost:8080/",
     "height": 572
    },
    "executionInfo": {
     "elapsed": 26,
     "status": "ok",
     "timestamp": 1679286658919,
     "user": {
      "displayName": "Honaine Bórquez",
      "userId": "01892143774462287998"
     },
     "user_tz": 180
    },
    "id": "js3G8nWFuvEa",
    "outputId": "4ebdf5fc-d71f-4ea6-8833-a7da8464e4ab"
   },
   "outputs": [
    {
     "data": {
      "image/png": "[encoded data removed]",
      "text/plain": [
       "<Figure size 640x480 with 1 Axes>"
      ]
     },
     "metadata": {},
     "output_type": "display_data"
    }
   ],
   "source": [
    "plt.plot(yhat_test.flatten()[-48:], color='blue', label='Estimación')\n",
    "plt.plot(data1['precio_EURUSD'].values[-48:], color='green', label='Precio real')\n",
    "plt.plot(y_test[-48:], color='black', label='Predicción real')\n",
    "plt.legend()\n",
    "plt.ylabel('EUR/USD')\n",
    "plt.xticks(range(48),data1['precio_EURUSD'].astype(str).values[-48:],rotation=90)\n",
    "#plt.xticks(range(48),[x[1] if x[0]%10==0 else '' for x in enumerate(Yte['fecha'].astype(str).values[-48:])],rotation=90)\n",
    "plt.title('TEST')\n",
    "plt.rc('figure', figsize=(30, 15))\n",
    "\n",
    "plt.show()"
   ]
  },
  {
   "cell_type": "markdown",
   "id": "d0110c8b",
   "metadata": {
    "executionInfo": {
     "elapsed": 845,
     "status": "ok",
     "timestamp": 1679286659740,
     "user": {
      "displayName": "Honaine Bórquez",
      "userId": "01892143774462287998"
     },
     "user_tz": 180
    },
    "id": "TBEvB31NyX_i"
   },
   "source": [
    "## SAVE (notebook)\n",
    "\n"
   ]
  },
  {
   "cell_type": "code",
   "execution_count": 12,
   "id": "ZsnS1m88zcgr",
   "metadata": {
    "executionInfo": {
     "elapsed": 6,
     "status": "ok",
     "timestamp": 1679286659741,
     "user": {
      "displayName": "Honaine Bórquez",
      "userId": "01892143774462287998"
     },
     "user_tz": 180
    },
    "id": "ZsnS1m88zcgr"
   },
   "outputs": [
    {
     "data": {
      "application/javascript": [
       "IPython.notebook.save_notebook()\n"
      ],
      "text/plain": [
       "<IPython.core.display.Javascript object>"
      ]
     },
     "metadata": {},
     "output_type": "display_data"
    }
   ],
   "source": [
    "%%javascript\n",
    "IPython.notebook.save_notebook()"
   ]
  },
  {
   "cell_type": "markdown",
   "id": "1fa8df11",
   "metadata": {},
   "source": [
    "As we can see, the best solution found by the model is a almost identical serie as original."
   ]
  },
  {
   "cell_type": "code",
   "execution_count": null,
   "id": "136f0290",
   "metadata": {},
   "outputs": [],
   "source": []
  }
 ],
 "metadata": {
  "accelerator": "GPU",
  "colab": {
   "machine_shape": "hm",
   "provenance": []
  },
  "gpuClass": "standard",
  "kernelspec": {
   "display_name": "Python 3 (ipykernel)",
   "language": "python",
   "name": "python3"
  },
  "language_info": {
   "codemirror_mode": {
    "name": "ipython",
    "version": 3
   },
   "file_extension": ".py",
   "mimetype": "text/x-python",
   "name": "python",
   "nbconvert_exporter": "python",
   "pygments_lexer": "ipython3",
   "version": "3.9.16"
  }
 },
 "nbformat": 4,
 "nbformat_minor": 5
}
